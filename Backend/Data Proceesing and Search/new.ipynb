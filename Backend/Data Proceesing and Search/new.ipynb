{
 "cells": [
  {
   "cell_type": "markdown",
   "metadata": {},
   "source": []
  },
  {
   "cell_type": "code",
   "execution_count": 1,
   "metadata": {},
   "outputs": [],
   "source": [
    "import json\n",
    "with open(r'firebase\\fsDoc.json', 'r') as f:\n",
    "    data = json.load(f)"
   ]
  },
  {
   "cell_type": "code",
   "execution_count": 10,
   "metadata": {},
   "outputs": [],
   "source": [
    "# create new dict only taking recipes with recipe_id,ingredients,title,\n",
    "new_data = []\n",
    "for i in data:\n",
    "    parsed_ingredients = []\n",
    "    for j in i['ingredients']:\n",
    "        if not j.startswith('@@T@@'):\n",
    "            jl=j.split(',')\n",
    "            pa = jl[2]\n",
    "            parsed_ingredients.append(pa)\n",
    "\n",
    "    v={\n",
    "        'recipe_id': i['recipe_id'],\n",
    "        'ingredients': str(parsed_ingredients),\n",
    "        'title': i['title']\n",
    "    }\n",
    "    new_data.append(v)"
   ]
  },
  {
   "cell_type": "code",
   "execution_count": 11,
   "metadata": {},
   "outputs": [
    {
     "data": {
      "text/plain": [
       "{'recipe_id': 'GYPnmKsyMUm5BKwv09fP',\n",
       " 'ingredients': \"['Hakka Noodles', 'Water', 'Salt Or Add As Required', 'Corn Flour', 'Oil As Required For Deep Frying', 'Oil', 'Finely Chopped Ginger', 'Finely Chopped Garlic', 'Sliced Onions', 'Julienned Carrot', 'Sliced Bell Peppers', 'Shredded Cabbage', 'Chopped Spring Onions', 'Tomato Ketchup', 'Soy Sauce', 'Red Chilli Sauce', 'Black Pepper Powder', 'Cornflour', 'Water', 'Sugar', 'Green chillies', 'Juice Of 1 Lime', 'Salt As Required', 'Chopped Spring Onions For Garnish']\",\n",
       " 'title': 'American Chop Suey'}"
      ]
     },
     "execution_count": 11,
     "metadata": {},
     "output_type": "execute_result"
    }
   ],
   "source": [
    "new_data[0]"
   ]
  },
  {
   "cell_type": "code",
   "execution_count": 12,
   "metadata": {},
   "outputs": [],
   "source": [
    "import pandas as pd\n",
    "df = pd.DataFrame(new_data)\n",
    "df.to_csv(r'firebase\\fsDoc.csv', index=False)"
   ]
  },
  {
   "cell_type": "code",
   "execution_count": 13,
   "metadata": {},
   "outputs": [
    {
     "data": {
      "text/html": [
       "<div>\n",
       "<style scoped>\n",
       "    .dataframe tbody tr th:only-of-type {\n",
       "        vertical-align: middle;\n",
       "    }\n",
       "\n",
       "    .dataframe tbody tr th {\n",
       "        vertical-align: top;\n",
       "    }\n",
       "\n",
       "    .dataframe thead th {\n",
       "        text-align: right;\n",
       "    }\n",
       "</style>\n",
       "<table border=\"1\" class=\"dataframe\">\n",
       "  <thead>\n",
       "    <tr style=\"text-align: right;\">\n",
       "      <th></th>\n",
       "      <th>recipe_id</th>\n",
       "      <th>ingredients</th>\n",
       "      <th>title</th>\n",
       "    </tr>\n",
       "  </thead>\n",
       "  <tbody>\n",
       "    <tr>\n",
       "      <th>0</th>\n",
       "      <td>GYPnmKsyMUm5BKwv09fP</td>\n",
       "      <td>['Hakka Noodles', 'Water', 'Salt Or Add As Req...</td>\n",
       "      <td>American Chop Suey</td>\n",
       "    </tr>\n",
       "    <tr>\n",
       "      <th>1</th>\n",
       "      <td>SzU5p18Okd9ApHCIBiPj</td>\n",
       "      <td>['Chickpeas', 'Onions', 'Garlic', 'Green Chill...</td>\n",
       "      <td>Crispy Falafel</td>\n",
       "    </tr>\n",
       "    <tr>\n",
       "      <th>2</th>\n",
       "      <td>2xjsdabzMwg4Seak9eSU</td>\n",
       "      <td>['Curd', 'roasted Jeera Powder', 'Sugar', 'Roc...</td>\n",
       "      <td>Boondi Raita</td>\n",
       "    </tr>\n",
       "    <tr>\n",
       "      <th>3</th>\n",
       "      <td>Lpyd7VVptZrUCvHUYbpQ</td>\n",
       "      <td>['Whole Wheat Flour', 'Olive Oil', 'Sugar', 'A...</td>\n",
       "      <td>Whole Wheat Pita Bread</td>\n",
       "    </tr>\n",
       "    <tr>\n",
       "      <th>4</th>\n",
       "      <td>7Fl7731w0dbq1feI09ri</td>\n",
       "      <td>['Coriander', 'Mint Leaves', 'Green Chillies',...</td>\n",
       "      <td>Toasted Bombay Sandwich</td>\n",
       "    </tr>\n",
       "    <tr>\n",
       "      <th>...</th>\n",
       "      <td>...</td>\n",
       "      <td>...</td>\n",
       "      <td>...</td>\n",
       "    </tr>\n",
       "    <tr>\n",
       "      <th>448</th>\n",
       "      <td>FTuC8UFtz6zYBXe36kpL</td>\n",
       "      <td>['Strawberries', 'Blueberries', 'Honey', 'Juic...</td>\n",
       "      <td>Summer Berry Red Wine Spritzer</td>\n",
       "    </tr>\n",
       "    <tr>\n",
       "      <th>449</th>\n",
       "      <td>XcQhN3hXZJRQ12A6oqa5</td>\n",
       "      <td>['Pork Shoulder', 'Onions', 'Chipotle Peppers ...</td>\n",
       "      <td>The Best Slow Cooker Chipotle BBQ Pulled Pork</td>\n",
       "    </tr>\n",
       "    <tr>\n",
       "      <th>450</th>\n",
       "      <td>YbnIdR1BBsLwjpRBOh8p</td>\n",
       "      <td>['Chicken', 'Oil for Frying', 'Ginger Garlic',...</td>\n",
       "      <td>KFC Style Spicy Popcorn Chicken</td>\n",
       "    </tr>\n",
       "    <tr>\n",
       "      <th>451</th>\n",
       "      <td>8yLDlrK8gqjYbar2lacf</td>\n",
       "      <td>['Oil', 'Garlic', 'Ginger', 'Green Chilies', '...</td>\n",
       "      <td>Sweet Chili Tofu Stir Fry</td>\n",
       "    </tr>\n",
       "    <tr>\n",
       "      <th>452</th>\n",
       "      <td>ztAQW3dgjahgXc34oXvt</td>\n",
       "      <td>['Chicken', 'Ginger Garlic', 'Lemon juice', 'O...</td>\n",
       "      <td>Comfort Food: Chicken Stew</td>\n",
       "    </tr>\n",
       "  </tbody>\n",
       "</table>\n",
       "<p>453 rows × 3 columns</p>\n",
       "</div>"
      ],
      "text/plain": [
       "                recipe_id                                        ingredients  \\\n",
       "0    GYPnmKsyMUm5BKwv09fP  ['Hakka Noodles', 'Water', 'Salt Or Add As Req...   \n",
       "1    SzU5p18Okd9ApHCIBiPj  ['Chickpeas', 'Onions', 'Garlic', 'Green Chill...   \n",
       "2    2xjsdabzMwg4Seak9eSU  ['Curd', 'roasted Jeera Powder', 'Sugar', 'Roc...   \n",
       "3    Lpyd7VVptZrUCvHUYbpQ  ['Whole Wheat Flour', 'Olive Oil', 'Sugar', 'A...   \n",
       "4    7Fl7731w0dbq1feI09ri  ['Coriander', 'Mint Leaves', 'Green Chillies',...   \n",
       "..                    ...                                                ...   \n",
       "448  FTuC8UFtz6zYBXe36kpL  ['Strawberries', 'Blueberries', 'Honey', 'Juic...   \n",
       "449  XcQhN3hXZJRQ12A6oqa5  ['Pork Shoulder', 'Onions', 'Chipotle Peppers ...   \n",
       "450  YbnIdR1BBsLwjpRBOh8p  ['Chicken', 'Oil for Frying', 'Ginger Garlic',...   \n",
       "451  8yLDlrK8gqjYbar2lacf  ['Oil', 'Garlic', 'Ginger', 'Green Chilies', '...   \n",
       "452  ztAQW3dgjahgXc34oXvt  ['Chicken', 'Ginger Garlic', 'Lemon juice', 'O...   \n",
       "\n",
       "                                             title  \n",
       "0                               American Chop Suey  \n",
       "1                                   Crispy Falafel  \n",
       "2                                     Boondi Raita  \n",
       "3                           Whole Wheat Pita Bread  \n",
       "4                          Toasted Bombay Sandwich  \n",
       "..                                             ...  \n",
       "448                 Summer Berry Red Wine Spritzer  \n",
       "449  The Best Slow Cooker Chipotle BBQ Pulled Pork  \n",
       "450                KFC Style Spicy Popcorn Chicken  \n",
       "451                      Sweet Chili Tofu Stir Fry  \n",
       "452                     Comfort Food: Chicken Stew  \n",
       "\n",
       "[453 rows x 3 columns]"
      ]
     },
     "execution_count": 13,
     "metadata": {},
     "output_type": "execute_result"
    }
   ],
   "source": [
    "# view the dataframe\n",
    "df"
   ]
  }
 ],
 "metadata": {
  "interpreter": {
   "hash": "3b858124816f64f50f80553863adb3bfe843d44665f8eee699171cdbc222e298"
  },
  "kernelspec": {
   "display_name": "Python 3.9.11 64-bit (windows store)",
   "language": "python",
   "name": "python3"
  },
  "language_info": {
   "codemirror_mode": {
    "name": "ipython",
    "version": 3
   },
   "file_extension": ".py",
   "mimetype": "text/x-python",
   "name": "python",
   "nbconvert_exporter": "python",
   "pygments_lexer": "ipython3",
   "version": "3.9.12"
  },
  "orig_nbformat": 4
 },
 "nbformat": 4,
 "nbformat_minor": 2
}
